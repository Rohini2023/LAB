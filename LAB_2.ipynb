{
  "nbformat": 4,
  "nbformat_minor": 0,
  "metadata": {
    "colab": {
      "provenance": [],
      "authorship_tag": "ABX9TyMGEs0TIgG1HML136FFwp5o",
      "include_colab_link": true
    },
    "kernelspec": {
      "name": "python3",
      "display_name": "Python 3"
    },
    "language_info": {
      "name": "python"
    }
  },
  "cells": [
    {
      "cell_type": "markdown",
      "metadata": {
        "id": "view-in-github",
        "colab_type": "text"
      },
      "source": [
        "<a href=\"https://colab.research.google.com/github/Rohini2023/LAB/blob/main/LAB_2.ipynb\" target=\"_parent\"><img src=\"https://colab.research.google.com/assets/colab-badge.svg\" alt=\"Open In Colab\"/></a>"
      ]
    },
    {
      "cell_type": "markdown",
      "source": [
        "2. IMPLEMENT SVM/SOFTMAX  CLASSIFIER FOR CIFAR -10 DATAST  1.USING KNN 2. USING 3 NEURAL NETWORK"
      ],
      "metadata": {
        "id": "j_OvswPcWkA4"
      }
    },
    {
      "cell_type": "code",
      "execution_count": 2,
      "metadata": {
        "id": "wRJBVOQiWPuX"
      },
      "outputs": [],
      "source": [
        "import numpy as np\n",
        "import pickle\n",
        "from sklearn import preprocessing\n",
        "from sklearn.model_selection import train_test_split\n",
        "from sklearn.metrics import accuracy_score\n",
        "from sklearn.svm import SVC\n",
        "from sklearn.neighbors import KNeighborsClassifier\n",
        "import tensorflow as tf\n",
        "from tensorflow.keras import layers, models"
      ]
    },
    {
      "cell_type": "code",
      "source": [
        "# Load CIFAR-10 dataset\n",
        "\n",
        "# Load in the data\n",
        "data = tf.keras.datasets.cifar10"
      ],
      "metadata": {
        "id": "HgDeXIM4W42Y"
      },
      "execution_count": 3,
      "outputs": []
    },
    {
      "cell_type": "code",
      "source": [
        "\n",
        "(X_train, y_train), (X_test, y_test) = data.load_data()\n",
        "print(X_train.shape, y_train.shape, X_test.shape, y_test.shape)"
      ],
      "metadata": {
        "colab": {
          "base_uri": "https://localhost:8080/"
        },
        "id": "8ni-qnwIXCQP",
        "outputId": "17b20ca1-af7f-4e18-c28e-b364c1200f29"
      },
      "execution_count": 4,
      "outputs": [
        {
          "output_type": "stream",
          "name": "stdout",
          "text": [
            "Downloading data from https://www.cs.toronto.edu/~kriz/cifar-10-python.tar.gz\n",
            "\u001b[1m170498071/170498071\u001b[0m \u001b[32m━━━━━━━━━━━━━━━━━━━━\u001b[0m\u001b[37m\u001b[0m \u001b[1m13s\u001b[0m 0us/step\n",
            "(50000, 32, 32, 3) (50000, 1) (10000, 32, 32, 3) (10000, 1)\n"
          ]
        }
      ]
    },
    {
      "cell_type": "code",
      "source": [
        "# Reduce pixel values\n",
        "X_train, X_test = X_train/ 255.0, X_test/ 255.0"
      ],
      "metadata": {
        "id": "1B8PLd_1XFkg"
      },
      "execution_count": 5,
      "outputs": []
    },
    {
      "cell_type": "code",
      "source": [
        "# flatten the label values\n",
        "y_train, y_test = y_train.flatten(), y_test.flatten()"
      ],
      "metadata": {
        "id": "-mA2XRnUXIZo"
      },
      "execution_count": 6,
      "outputs": []
    },
    {
      "cell_type": "code",
      "source": [
        "# Reduce dataset size for quick testing\n",
        "# Using 5000 for training and 1000 for testing as an example\n",
        "X_train = X_train[:5000]\n",
        "y_train = y_train[:5000]\n",
        "X_test = X_test[:1000]\n",
        "y_test = y_test[:1000]\n",
        "X_train.shape\n"
      ],
      "metadata": {
        "colab": {
          "base_uri": "https://localhost:8080/"
        },
        "id": "ABBL7C0PXLnX",
        "outputId": "90e44c20-9fa4-44ba-ef30-b210c0e083de"
      },
      "execution_count": 7,
      "outputs": [
        {
          "output_type": "execute_result",
          "data": {
            "text/plain": [
              "(5000, 32, 32, 3)"
            ]
          },
          "metadata": {},
          "execution_count": 7
        }
      ]
    },
    {
      "cell_type": "code",
      "source": [
        "# SVM classifier using KNN\n",
        "svm_knn = SVC(kernel='linear')\n",
        "X_train_flat = X_train.reshape(X_train.shape[0], -1)\n",
        "X_test_flat = X_test.reshape(X_test.shape[0], -1)\n",
        "svm_knn.fit(X_train_flat, y_train)\n",
        "svm_knn_predictions = svm_knn.predict(X_test_flat)\n",
        "print(svm_knn_predictions[:10])\n",
        "svm_knn_accuracy = accuracy_score(y_test, svm_knn_predictions)\n",
        "print(\"SVM classifier using KNN Accuracy:\", svm_knn_accuracy)\n"
      ],
      "metadata": {
        "colab": {
          "base_uri": "https://localhost:8080/"
        },
        "id": "FqZHbNr8XPFI",
        "outputId": "4ba813e3-a7f7-462c-f64c-2733b0436c1c"
      },
      "execution_count": 8,
      "outputs": [
        {
          "output_type": "stream",
          "name": "stdout",
          "text": [
            "[1 1 8 0 4 3 3 6 4 1]\n",
            "SVM classifier using KNN Accuracy: 0.304\n"
          ]
        }
      ]
    },
    {
      "cell_type": "code",
      "source": [
        "# Softmax classifier using KNN\n",
        "softmax_knn = KNeighborsClassifier(n_neighbors=10)  # You can tune n_neighbors\n",
        "softmax_knn.fit(X_train_flat, y_train)\n",
        "softmax_knn_predictions = softmax_knn.predict(X_test_flat)\n",
        "softmax_knn_accuracy = accuracy_score(y_test, softmax_knn_predictions)\n",
        "print(\"Softmax classifier using KNN Accuracy:\", softmax_knn_accuracy)\n"
      ],
      "metadata": {
        "colab": {
          "base_uri": "https://localhost:8080/"
        },
        "id": "HnCyKBASXQVf",
        "outputId": "4a8f91b8-3c79-495d-c48b-b8f3cf5381dd"
      },
      "execution_count": 9,
      "outputs": [
        {
          "output_type": "stream",
          "name": "stdout",
          "text": [
            "Softmax classifier using KNN Accuracy: 0.277\n"
          ]
        }
      ]
    },
    {
      "cell_type": "markdown",
      "source": [
        "**SVM and Softmax classifiers using a 3-layer neural network**\n",
        "\n"
      ],
      "metadata": {
        "id": "rtpYIgsSXWhG"
      }
    },
    {
      "cell_type": "code",
      "source": [
        "# SVM classifier using a 3-layer neural network\n",
        "svm_nn = SVC(kernel='linear')\n",
        "X_train_flat = X_train.reshape(X_train.shape[0], -1)\n",
        "X_test_flat = X_test.reshape(X_test.shape[0], -1)\n",
        "svm_nn.fit(X_train_flat, y_train)\n",
        "svm_nn_predictions = svm_nn.predict(X_test_flat)\n",
        "svm_nn_accuracy = accuracy_score(y_test, svm_nn_predictions)\n",
        "print(\"SVM classifier using a 3-layer neural network Accuracy:\", svm_nn_accuracy)\n"
      ],
      "metadata": {
        "colab": {
          "base_uri": "https://localhost:8080/"
        },
        "id": "xhHNcrUOXZvA",
        "outputId": "fd89f7fb-b79a-40b6-f5cc-113402ba2b0d"
      },
      "execution_count": 10,
      "outputs": [
        {
          "output_type": "stream",
          "name": "stdout",
          "text": [
            "SVM classifier using a 3-layer neural network Accuracy: 0.304\n"
          ]
        }
      ]
    },
    {
      "cell_type": "code",
      "source": [
        "# Softmax classifier using a 3-layer neural network\n",
        "softmax_nn = models.Sequential([\n",
        "    layers.Flatten(input_shape=(32, 32, 3)),\n",
        "    layers.Dense(128, activation='relu'),\n",
        "    layers.Dense(64, activation='relu'),\n",
        "    layers.Dense(10, activation='softmax')\n",
        "])"
      ],
      "metadata": {
        "colab": {
          "base_uri": "https://localhost:8080/"
        },
        "id": "Id4Oq_FGXizY",
        "outputId": "3e06bd6d-8a72-49fc-b266-933de5bfe26e"
      },
      "execution_count": 12,
      "outputs": [
        {
          "output_type": "stream",
          "name": "stderr",
          "text": [
            "/usr/local/lib/python3.11/dist-packages/keras/src/layers/reshaping/flatten.py:37: UserWarning: Do not pass an `input_shape`/`input_dim` argument to a layer. When using Sequential models, prefer using an `Input(shape)` object as the first layer in the model instead.\n",
            "  super().__init__(**kwargs)\n"
          ]
        }
      ]
    },
    {
      "cell_type": "code",
      "source": [
        "softmax_nn.compile(optimizer='adam',\n",
        "                   loss='sparse_categorical_crossentropy',\n",
        "                   metrics=['accuracy'])\n",
        "\n",
        "history = softmax_nn.fit(X_train, y_train, epochs=10, batch_size=64, validation_data=(X_test, y_test))\n",
        "_, softmax_nn_accuracy = softmax_nn.evaluate(X_test, y_test)\n",
        "print(\"Softmax classifier using a 3-layer neural network Accuracy:\", softmax_nn_accuracy)"
      ],
      "metadata": {
        "colab": {
          "base_uri": "https://localhost:8080/"
        },
        "id": "tpWSYecJXlRI",
        "outputId": "df9364dc-08e4-48e5-8b60-59bb33348b84"
      },
      "execution_count": 13,
      "outputs": [
        {
          "output_type": "stream",
          "name": "stdout",
          "text": [
            "Epoch 1/10\n",
            "\u001b[1m79/79\u001b[0m \u001b[32m━━━━━━━━━━━━━━━━━━━━\u001b[0m\u001b[37m\u001b[0m \u001b[1m2s\u001b[0m 8ms/step - accuracy: 0.1557 - loss: 2.2443 - val_accuracy: 0.2670 - val_loss: 2.0028\n",
            "Epoch 2/10\n",
            "\u001b[1m79/79\u001b[0m \u001b[32m━━━━━━━━━━━━━━━━━━━━\u001b[0m\u001b[37m\u001b[0m \u001b[1m1s\u001b[0m 6ms/step - accuracy: 0.2705 - loss: 1.9894 - val_accuracy: 0.3040 - val_loss: 1.9117\n",
            "Epoch 3/10\n",
            "\u001b[1m79/79\u001b[0m \u001b[32m━━━━━━━━━━━━━━━━━━━━\u001b[0m\u001b[37m\u001b[0m \u001b[1m1s\u001b[0m 7ms/step - accuracy: 0.3233 - loss: 1.8736 - val_accuracy: 0.3070 - val_loss: 1.9169\n",
            "Epoch 4/10\n",
            "\u001b[1m79/79\u001b[0m \u001b[32m━━━━━━━━━━━━━━━━━━━━\u001b[0m\u001b[37m\u001b[0m \u001b[1m0s\u001b[0m 6ms/step - accuracy: 0.3253 - loss: 1.8501 - val_accuracy: 0.3200 - val_loss: 1.8932\n",
            "Epoch 5/10\n",
            "\u001b[1m79/79\u001b[0m \u001b[32m━━━━━━━━━━━━━━━━━━━━\u001b[0m\u001b[37m\u001b[0m \u001b[1m1s\u001b[0m 7ms/step - accuracy: 0.3573 - loss: 1.7749 - val_accuracy: 0.3440 - val_loss: 1.8240\n",
            "Epoch 6/10\n",
            "\u001b[1m79/79\u001b[0m \u001b[32m━━━━━━━━━━━━━━━━━━━━\u001b[0m\u001b[37m\u001b[0m \u001b[1m1s\u001b[0m 6ms/step - accuracy: 0.3744 - loss: 1.7501 - val_accuracy: 0.3420 - val_loss: 1.8047\n",
            "Epoch 7/10\n",
            "\u001b[1m79/79\u001b[0m \u001b[32m━━━━━━━━━━━━━━━━━━━━\u001b[0m\u001b[37m\u001b[0m \u001b[1m1s\u001b[0m 7ms/step - accuracy: 0.3974 - loss: 1.7190 - val_accuracy: 0.3620 - val_loss: 1.7751\n",
            "Epoch 8/10\n",
            "\u001b[1m79/79\u001b[0m \u001b[32m━━━━━━━━━━━━━━━━━━━━\u001b[0m\u001b[37m\u001b[0m \u001b[1m1s\u001b[0m 6ms/step - accuracy: 0.3942 - loss: 1.6915 - val_accuracy: 0.3690 - val_loss: 1.7451\n",
            "Epoch 9/10\n",
            "\u001b[1m79/79\u001b[0m \u001b[32m━━━━━━━━━━━━━━━━━━━━\u001b[0m\u001b[37m\u001b[0m \u001b[1m1s\u001b[0m 7ms/step - accuracy: 0.4201 - loss: 1.6353 - val_accuracy: 0.3630 - val_loss: 1.7620\n",
            "Epoch 10/10\n",
            "\u001b[1m79/79\u001b[0m \u001b[32m━━━━━━━━━━━━━━━━━━━━\u001b[0m\u001b[37m\u001b[0m \u001b[1m1s\u001b[0m 9ms/step - accuracy: 0.4152 - loss: 1.6410 - val_accuracy: 0.3620 - val_loss: 1.7730\n",
            "\u001b[1m32/32\u001b[0m \u001b[32m━━━━━━━━━━━━━━━━━━━━\u001b[0m\u001b[37m\u001b[0m \u001b[1m0s\u001b[0m 2ms/step - accuracy: 0.3327 - loss: 1.7881 \n",
            "Softmax classifier using a 3-layer neural network Accuracy: 0.3619999885559082\n"
          ]
        }
      ]
    }
  ]
}